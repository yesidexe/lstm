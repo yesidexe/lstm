{
 "cells": [
  {
   "cell_type": "markdown",
   "metadata": {
    "id": "7Kyk1D-Couph"
   },
   "source": [
    "Ingresamos una única variable pero, predecimos varios instantes de tiempo, la idea ahora es ingresar 24 horas de temp, y predecir 4 horas de temp."
   ]
  },
  {
   "cell_type": "code",
   "execution_count": 1,
   "metadata": {
    "id": "QdQ9TX95oupk"
   },
   "outputs": [],
   "source": [
    "import pandas as pd\n",
    "import numpy as np\n",
    "import matplotlib.pyplot as plt\n",
    "from sklearn.preprocessing import MinMaxScaler\n",
    "from tensorflow.keras.models import Sequential\n",
    "from tensorflow.keras.layers import Dense, LSTM\n",
    "from tensorflow.keras.optimizers import Adam, RMSprop\n",
    "import tensorflow as tf"
   ]
  },
  {
   "cell_type": "code",
   "execution_count": 2,
   "metadata": {
    "colab": {
     "base_uri": "https://localhost:8080/",
     "height": 434
    },
    "id": "2tpK6_Keoupm",
    "outputId": "8ce4ea92-e9ed-4959-db81-1617d59be612"
   },
   "outputs": [
    {
     "data": {
      "application/vnd.google.colaboratory.intrinsic+json": {
       "type": "dataframe",
       "variable_name": "df"
      },
      "text/html": [
       "\n",
       "  <div id=\"df-0d6efb29-515f-4016-8b41-1af2e594e91c\" class=\"colab-df-container\">\n",
       "    <div>\n",
       "<style scoped>\n",
       "    .dataframe tbody tr th:only-of-type {\n",
       "        vertical-align: middle;\n",
       "    }\n",
       "\n",
       "    .dataframe tbody tr th {\n",
       "        vertical-align: top;\n",
       "    }\n",
       "\n",
       "    .dataframe thead th {\n",
       "        text-align: right;\n",
       "    }\n",
       "</style>\n",
       "<table border=\"1\" class=\"dataframe\">\n",
       "  <thead>\n",
       "    <tr style=\"text-align: right;\">\n",
       "      <th></th>\n",
       "      <th>datetime</th>\n",
       "      <th>p (mbar)</th>\n",
       "      <th>T (degC)</th>\n",
       "      <th>Tpot (K)</th>\n",
       "      <th>Tdew (degC)</th>\n",
       "      <th>rh (%)</th>\n",
       "      <th>VPmax (mbar)</th>\n",
       "      <th>VPact (mbar)</th>\n",
       "      <th>VPdef (mbar)</th>\n",
       "      <th>sh (g/kg)</th>\n",
       "      <th>H2OC (mmol/mol)</th>\n",
       "      <th>rho (g/m**3)</th>\n",
       "      <th>wv (m/s)</th>\n",
       "      <th>max. wv (m/s)</th>\n",
       "      <th>wd (deg)</th>\n",
       "    </tr>\n",
       "  </thead>\n",
       "  <tbody>\n",
       "    <tr>\n",
       "      <th>0</th>\n",
       "      <td>2009-01-01 00:10:00</td>\n",
       "      <td>996.52</td>\n",
       "      <td>-8.02</td>\n",
       "      <td>265.40</td>\n",
       "      <td>-8.90</td>\n",
       "      <td>93.3</td>\n",
       "      <td>3.33</td>\n",
       "      <td>3.11</td>\n",
       "      <td>0.22</td>\n",
       "      <td>1.94</td>\n",
       "      <td>3.12</td>\n",
       "      <td>1307.75</td>\n",
       "      <td>1.03</td>\n",
       "      <td>1.75</td>\n",
       "      <td>152.3</td>\n",
       "    </tr>\n",
       "    <tr>\n",
       "      <th>1</th>\n",
       "      <td>2009-01-01 00:20:00</td>\n",
       "      <td>996.57</td>\n",
       "      <td>-8.41</td>\n",
       "      <td>265.01</td>\n",
       "      <td>-9.28</td>\n",
       "      <td>93.4</td>\n",
       "      <td>3.23</td>\n",
       "      <td>3.02</td>\n",
       "      <td>0.21</td>\n",
       "      <td>1.89</td>\n",
       "      <td>3.03</td>\n",
       "      <td>1309.80</td>\n",
       "      <td>0.72</td>\n",
       "      <td>1.50</td>\n",
       "      <td>136.1</td>\n",
       "    </tr>\n",
       "    <tr>\n",
       "      <th>2</th>\n",
       "      <td>2009-01-01 00:30:00</td>\n",
       "      <td>996.53</td>\n",
       "      <td>-8.51</td>\n",
       "      <td>264.91</td>\n",
       "      <td>-9.31</td>\n",
       "      <td>93.9</td>\n",
       "      <td>3.21</td>\n",
       "      <td>3.01</td>\n",
       "      <td>0.20</td>\n",
       "      <td>1.88</td>\n",
       "      <td>3.02</td>\n",
       "      <td>1310.24</td>\n",
       "      <td>0.19</td>\n",
       "      <td>0.63</td>\n",
       "      <td>171.6</td>\n",
       "    </tr>\n",
       "    <tr>\n",
       "      <th>3</th>\n",
       "      <td>2009-01-01 00:40:00</td>\n",
       "      <td>996.51</td>\n",
       "      <td>-8.31</td>\n",
       "      <td>265.12</td>\n",
       "      <td>-9.07</td>\n",
       "      <td>94.2</td>\n",
       "      <td>3.26</td>\n",
       "      <td>3.07</td>\n",
       "      <td>0.19</td>\n",
       "      <td>1.92</td>\n",
       "      <td>3.08</td>\n",
       "      <td>1309.19</td>\n",
       "      <td>0.34</td>\n",
       "      <td>0.50</td>\n",
       "      <td>198.0</td>\n",
       "    </tr>\n",
       "    <tr>\n",
       "      <th>4</th>\n",
       "      <td>2009-01-01 00:50:00</td>\n",
       "      <td>996.51</td>\n",
       "      <td>-8.27</td>\n",
       "      <td>265.15</td>\n",
       "      <td>-9.04</td>\n",
       "      <td>94.1</td>\n",
       "      <td>3.27</td>\n",
       "      <td>3.08</td>\n",
       "      <td>0.19</td>\n",
       "      <td>1.92</td>\n",
       "      <td>3.09</td>\n",
       "      <td>1309.00</td>\n",
       "      <td>0.32</td>\n",
       "      <td>0.63</td>\n",
       "      <td>214.3</td>\n",
       "    </tr>\n",
       "  </tbody>\n",
       "</table>\n",
       "</div>\n",
       "    <div class=\"colab-df-buttons\">\n",
       "\n",
       "  <div class=\"colab-df-container\">\n",
       "    <button class=\"colab-df-convert\" onclick=\"convertToInteractive('df-0d6efb29-515f-4016-8b41-1af2e594e91c')\"\n",
       "            title=\"Convert this dataframe to an interactive table.\"\n",
       "            style=\"display:none;\">\n",
       "\n",
       "  <svg xmlns=\"http://www.w3.org/2000/svg\" height=\"24px\" viewBox=\"0 -960 960 960\">\n",
       "    <path d=\"M120-120v-720h720v720H120Zm60-500h600v-160H180v160Zm220 220h160v-160H400v160Zm0 220h160v-160H400v160ZM180-400h160v-160H180v160Zm440 0h160v-160H620v160ZM180-180h160v-160H180v160Zm440 0h160v-160H620v160Z\"/>\n",
       "  </svg>\n",
       "    </button>\n",
       "\n",
       "  <style>\n",
       "    .colab-df-container {\n",
       "      display:flex;\n",
       "      gap: 12px;\n",
       "    }\n",
       "\n",
       "    .colab-df-convert {\n",
       "      background-color: #E8F0FE;\n",
       "      border: none;\n",
       "      border-radius: 50%;\n",
       "      cursor: pointer;\n",
       "      display: none;\n",
       "      fill: #1967D2;\n",
       "      height: 32px;\n",
       "      padding: 0 0 0 0;\n",
       "      width: 32px;\n",
       "    }\n",
       "\n",
       "    .colab-df-convert:hover {\n",
       "      background-color: #E2EBFA;\n",
       "      box-shadow: 0px 1px 2px rgba(60, 64, 67, 0.3), 0px 1px 3px 1px rgba(60, 64, 67, 0.15);\n",
       "      fill: #174EA6;\n",
       "    }\n",
       "\n",
       "    .colab-df-buttons div {\n",
       "      margin-bottom: 4px;\n",
       "    }\n",
       "\n",
       "    [theme=dark] .colab-df-convert {\n",
       "      background-color: #3B4455;\n",
       "      fill: #D2E3FC;\n",
       "    }\n",
       "\n",
       "    [theme=dark] .colab-df-convert:hover {\n",
       "      background-color: #434B5C;\n",
       "      box-shadow: 0px 1px 3px 1px rgba(0, 0, 0, 0.15);\n",
       "      filter: drop-shadow(0px 1px 2px rgba(0, 0, 0, 0.3));\n",
       "      fill: #FFFFFF;\n",
       "    }\n",
       "  </style>\n",
       "\n",
       "    <script>\n",
       "      const buttonEl =\n",
       "        document.querySelector('#df-0d6efb29-515f-4016-8b41-1af2e594e91c button.colab-df-convert');\n",
       "      buttonEl.style.display =\n",
       "        google.colab.kernel.accessAllowed ? 'block' : 'none';\n",
       "\n",
       "      async function convertToInteractive(key) {\n",
       "        const element = document.querySelector('#df-0d6efb29-515f-4016-8b41-1af2e594e91c');\n",
       "        const dataTable =\n",
       "          await google.colab.kernel.invokeFunction('convertToInteractive',\n",
       "                                                    [key], {});\n",
       "        if (!dataTable) return;\n",
       "\n",
       "        const docLinkHtml = 'Like what you see? Visit the ' +\n",
       "          '<a target=\"_blank\" href=https://colab.research.google.com/notebooks/data_table.ipynb>data table notebook</a>'\n",
       "          + ' to learn more about interactive tables.';\n",
       "        element.innerHTML = '';\n",
       "        dataTable['output_type'] = 'display_data';\n",
       "        await google.colab.output.renderOutput(dataTable, element);\n",
       "        const docLink = document.createElement('div');\n",
       "        docLink.innerHTML = docLinkHtml;\n",
       "        element.appendChild(docLink);\n",
       "      }\n",
       "    </script>\n",
       "  </div>\n",
       "\n",
       "\n",
       "<div id=\"df-7fcb1207-0edf-408c-bef4-a24429fdc37f\">\n",
       "  <button class=\"colab-df-quickchart\" onclick=\"quickchart('df-7fcb1207-0edf-408c-bef4-a24429fdc37f')\"\n",
       "            title=\"Suggest charts\"\n",
       "            style=\"display:none;\">\n",
       "\n",
       "<svg xmlns=\"http://www.w3.org/2000/svg\" height=\"24px\"viewBox=\"0 0 24 24\"\n",
       "     width=\"24px\">\n",
       "    <g>\n",
       "        <path d=\"M19 3H5c-1.1 0-2 .9-2 2v14c0 1.1.9 2 2 2h14c1.1 0 2-.9 2-2V5c0-1.1-.9-2-2-2zM9 17H7v-7h2v7zm4 0h-2V7h2v10zm4 0h-2v-4h2v4z\"/>\n",
       "    </g>\n",
       "</svg>\n",
       "  </button>\n",
       "\n",
       "<style>\n",
       "  .colab-df-quickchart {\n",
       "      --bg-color: #E8F0FE;\n",
       "      --fill-color: #1967D2;\n",
       "      --hover-bg-color: #E2EBFA;\n",
       "      --hover-fill-color: #174EA6;\n",
       "      --disabled-fill-color: #AAA;\n",
       "      --disabled-bg-color: #DDD;\n",
       "  }\n",
       "\n",
       "  [theme=dark] .colab-df-quickchart {\n",
       "      --bg-color: #3B4455;\n",
       "      --fill-color: #D2E3FC;\n",
       "      --hover-bg-color: #434B5C;\n",
       "      --hover-fill-color: #FFFFFF;\n",
       "      --disabled-bg-color: #3B4455;\n",
       "      --disabled-fill-color: #666;\n",
       "  }\n",
       "\n",
       "  .colab-df-quickchart {\n",
       "    background-color: var(--bg-color);\n",
       "    border: none;\n",
       "    border-radius: 50%;\n",
       "    cursor: pointer;\n",
       "    display: none;\n",
       "    fill: var(--fill-color);\n",
       "    height: 32px;\n",
       "    padding: 0;\n",
       "    width: 32px;\n",
       "  }\n",
       "\n",
       "  .colab-df-quickchart:hover {\n",
       "    background-color: var(--hover-bg-color);\n",
       "    box-shadow: 0 1px 2px rgba(60, 64, 67, 0.3), 0 1px 3px 1px rgba(60, 64, 67, 0.15);\n",
       "    fill: var(--button-hover-fill-color);\n",
       "  }\n",
       "\n",
       "  .colab-df-quickchart-complete:disabled,\n",
       "  .colab-df-quickchart-complete:disabled:hover {\n",
       "    background-color: var(--disabled-bg-color);\n",
       "    fill: var(--disabled-fill-color);\n",
       "    box-shadow: none;\n",
       "  }\n",
       "\n",
       "  .colab-df-spinner {\n",
       "    border: 2px solid var(--fill-color);\n",
       "    border-color: transparent;\n",
       "    border-bottom-color: var(--fill-color);\n",
       "    animation:\n",
       "      spin 1s steps(1) infinite;\n",
       "  }\n",
       "\n",
       "  @keyframes spin {\n",
       "    0% {\n",
       "      border-color: transparent;\n",
       "      border-bottom-color: var(--fill-color);\n",
       "      border-left-color: var(--fill-color);\n",
       "    }\n",
       "    20% {\n",
       "      border-color: transparent;\n",
       "      border-left-color: var(--fill-color);\n",
       "      border-top-color: var(--fill-color);\n",
       "    }\n",
       "    30% {\n",
       "      border-color: transparent;\n",
       "      border-left-color: var(--fill-color);\n",
       "      border-top-color: var(--fill-color);\n",
       "      border-right-color: var(--fill-color);\n",
       "    }\n",
       "    40% {\n",
       "      border-color: transparent;\n",
       "      border-right-color: var(--fill-color);\n",
       "      border-top-color: var(--fill-color);\n",
       "    }\n",
       "    60% {\n",
       "      border-color: transparent;\n",
       "      border-right-color: var(--fill-color);\n",
       "    }\n",
       "    80% {\n",
       "      border-color: transparent;\n",
       "      border-right-color: var(--fill-color);\n",
       "      border-bottom-color: var(--fill-color);\n",
       "    }\n",
       "    90% {\n",
       "      border-color: transparent;\n",
       "      border-bottom-color: var(--fill-color);\n",
       "    }\n",
       "  }\n",
       "</style>\n",
       "\n",
       "  <script>\n",
       "    async function quickchart(key) {\n",
       "      const quickchartButtonEl =\n",
       "        document.querySelector('#' + key + ' button');\n",
       "      quickchartButtonEl.disabled = true;  // To prevent multiple clicks.\n",
       "      quickchartButtonEl.classList.add('colab-df-spinner');\n",
       "      try {\n",
       "        const charts = await google.colab.kernel.invokeFunction(\n",
       "            'suggestCharts', [key], {});\n",
       "      } catch (error) {\n",
       "        console.error('Error during call to suggestCharts:', error);\n",
       "      }\n",
       "      quickchartButtonEl.classList.remove('colab-df-spinner');\n",
       "      quickchartButtonEl.classList.add('colab-df-quickchart-complete');\n",
       "    }\n",
       "    (() => {\n",
       "      let quickchartButtonEl =\n",
       "        document.querySelector('#df-7fcb1207-0edf-408c-bef4-a24429fdc37f button');\n",
       "      quickchartButtonEl.style.display =\n",
       "        google.colab.kernel.accessAllowed ? 'block' : 'none';\n",
       "    })();\n",
       "  </script>\n",
       "</div>\n",
       "\n",
       "    </div>\n",
       "  </div>\n"
      ],
      "text/plain": [
       "              datetime  p (mbar)  T (degC)  Tpot (K)  Tdew (degC)  rh (%)  \\\n",
       "0  2009-01-01 00:10:00    996.52     -8.02    265.40        -8.90    93.3   \n",
       "1  2009-01-01 00:20:00    996.57     -8.41    265.01        -9.28    93.4   \n",
       "2  2009-01-01 00:30:00    996.53     -8.51    264.91        -9.31    93.9   \n",
       "3  2009-01-01 00:40:00    996.51     -8.31    265.12        -9.07    94.2   \n",
       "4  2009-01-01 00:50:00    996.51     -8.27    265.15        -9.04    94.1   \n",
       "\n",
       "   VPmax (mbar)  VPact (mbar)  VPdef (mbar)  sh (g/kg)  H2OC (mmol/mol)  \\\n",
       "0          3.33          3.11          0.22       1.94             3.12   \n",
       "1          3.23          3.02          0.21       1.89             3.03   \n",
       "2          3.21          3.01          0.20       1.88             3.02   \n",
       "3          3.26          3.07          0.19       1.92             3.08   \n",
       "4          3.27          3.08          0.19       1.92             3.09   \n",
       "\n",
       "   rho (g/m**3)  wv (m/s)  max. wv (m/s)  wd (deg)  \n",
       "0       1307.75      1.03           1.75     152.3  \n",
       "1       1309.80      0.72           1.50     136.1  \n",
       "2       1310.24      0.19           0.63     171.6  \n",
       "3       1309.19      0.34           0.50     198.0  \n",
       "4       1309.00      0.32           0.63     214.3  "
      ]
     },
     "execution_count": 2,
     "metadata": {},
     "output_type": "execute_result"
    }
   ],
   "source": [
    "df = pd.read_csv('weather_dataset_PREprocesado.csv')\n",
    "df.head()"
   ]
  },
  {
   "cell_type": "markdown",
   "metadata": {
    "id": "9AoFVhCYoupn"
   },
   "source": [
    "## Split el dataset"
   ]
  },
  {
   "cell_type": "code",
   "execution_count": 3,
   "metadata": {
    "id": "0oOmjd4voupn"
   },
   "outputs": [],
   "source": [
    "def train_val_test_split(serie, tr=0.8, ts=0.1, vl=0.1):\n",
    "    N = len(serie)\n",
    "    Ntrain = int(N*tr)\n",
    "    Nval = int(N*vl)\n",
    "    Ntest = int(N*ts)\n",
    "\n",
    "    train = serie[:Ntrain]\n",
    "    val = serie[Ntrain:Ntrain+Nval]\n",
    "    test = serie[Ntrain+Nval:]\n",
    "\n",
    "    print(f'train: {train.shape}')\n",
    "    print(f'val: {val.shape}')\n",
    "    print(f'test: {test.shape}')\n",
    "\n",
    "    return train, val, test"
   ]
  },
  {
   "cell_type": "code",
   "execution_count": 4,
   "metadata": {
    "colab": {
     "base_uri": "https://localhost:8080/"
    },
    "id": "VPswBmr0oupn",
    "outputId": "4b2ce31a-b357-4fdd-a4a0-69ab65f4c97f"
   },
   "outputs": [
    {
     "name": "stdout",
     "output_type": "stream",
     "text": [
      "train: (336614,)\n",
      "val: (42076,)\n",
      "test: (42078,)\n"
     ]
    }
   ],
   "source": [
    "# recordar que es UNIVARIADO, por lo que será solo T (degC)\n",
    "train, val, test = train_val_test_split(df['T (degC)'])"
   ]
  },
  {
   "cell_type": "code",
   "execution_count": 5,
   "metadata": {
    "colab": {
     "base_uri": "https://localhost:8080/",
     "height": 382
    },
    "id": "Yur4iZXkoupn",
    "outputId": "46e8b2e9-4de5-4f0d-c4d2-755c77875715"
   },
   "outputs": [
    {
     "data": {
      "text/plain": [
       "<matplotlib.legend.Legend at 0x7f32212086d0>"
      ]
     },
     "execution_count": 5,
     "metadata": {},
     "output_type": "execute_result"
    },
    {
     "data": {
      "image/png": "[encoded data removed]",
      "text/plain": [
       "<Figure size 1000x400 with 1 Axes>"
      ]
     },
     "metadata": {},
     "output_type": "display_data"
    }
   ],
   "source": [
    "fig, ax = plt.subplots(figsize=(10, 4))\n",
    "ax.plot(train, label='train')\n",
    "ax.plot(val, label='val')\n",
    "ax.plot(test, label='test')\n",
    "plt.legend()"
   ]
  },
  {
   "cell_type": "code",
   "execution_count": 6,
   "metadata": {
    "id": "wXNyij0Ioupo"
   },
   "outputs": [],
   "source": [
    "def crear_dataset_supervisado(array, input_length, output_length):\n",
    "    X, Y = [], []\n",
    "\n",
    "    # Sacamos filas y columnas\n",
    "    shape = array.shape\n",
    "    if len(shape) ==1:\n",
    "        rows, cols = array.shape[0], 1\n",
    "        array = array.reshape(rows, cols)\n",
    "    else:\n",
    "        rows, cols = array.shape\n",
    "\n",
    "    # Ahora creamos el supervisado, con X y Y\n",
    "    for i in range(rows - input_length - output_length):\n",
    "        X.append(array[i:i+input_length, :cols])\n",
    "        Y.append(array[i+input_length:i+input_length+output_length,-1].reshape(output_length,1))\n",
    "    X = np.array(X)\n",
    "    Y = np.array(Y)\n",
    "\n",
    "    return X, Y\n"
   ]
  },
  {
   "cell_type": "code",
   "execution_count": 7,
   "metadata": {
    "colab": {
     "base_uri": "https://localhost:8080/"
    },
    "id": "FGHtIYfvoupo",
    "outputId": "12c9676c-46ae-4b14-ec10-38eab6a64914"
   },
   "outputs": [
    {
     "name": "stdout",
     "output_type": "stream",
     "text": [
      "x_train: (336446, 144, 1), y_train: (336446, 24, 1)\n",
      "x_val: (41908, 144, 1), y_val: (41908, 24, 1)\n",
      "x_test: (41910, 144, 1), y_test: (41910, 24, 1)\n"
     ]
    }
   ],
   "source": [
    "# como lo tengo de 10min, 144 seria 24 horas\n",
    "input_length = 144\n",
    "# Pongo 24 que serian 4 horas\n",
    "output_length = 24\n",
    "\n",
    "x_train, y_train = crear_dataset_supervisado(train.values, input_length,output_length)\n",
    "x_val, y_val = crear_dataset_supervisado(val.values, input_length, output_length)\n",
    "x_test, y_test = crear_dataset_supervisado(test.values, input_length, output_length)\n",
    "\n",
    "print(f'x_train: {x_train.shape}, y_train: {y_train.shape}')\n",
    "print(f'x_val: {x_val.shape}, y_val: {y_val.shape}')\n",
    "print(f'x_test: {x_test.shape}, y_test: {y_test.shape}')"
   ]
  },
  {
   "cell_type": "markdown",
   "metadata": {
    "id": "ohgD1yRLoupp"
   },
   "source": [
    "## Escalamiento"
   ]
  },
  {
   "cell_type": "code",
   "execution_count": 8,
   "metadata": {
    "id": "7SgWE76ioupp"
   },
   "outputs": [],
   "source": [
    "def escalar_dataset(data_input):\n",
    "\n",
    "    # Cuando creamos el supervisado dejamos las variables en la posición 2\n",
    "    NFEATS = data_input['x_train'].shape[2]\n",
    "    # Se instancia tantos escaladores como columnas, por qué? al parecer es una buena práctica para redes lstm\n",
    "    scalers = [MinMaxScaler(feature_range=(-1,1)) for i in range(NFEATS)]\n",
    "\n",
    "    # se crear arrays vacios, llenos con 0s\n",
    "    x_train_s = np.zeros(data_input['x_train'].shape)\n",
    "    x_val_s = np.zeros(data_input['x_val'].shape)\n",
    "    x_test_s = np.zeros(data_input['x_test'].shape)\n",
    "    y_train_s = np.zeros(data_input['y_train'].shape)\n",
    "    y_val_s = np.zeros(data_input['y_val'].shape)\n",
    "    y_test_s = np.zeros(data_input['y_test'].shape)\n",
    "\n",
    "    # Acá escalamos columna por columna, es decir, por separado\n",
    "    for i in range(NFEATS):\n",
    "        x_train_s[:, :, i] = scalers[i].fit_transform(data_input['x_train'][:, :, i])\n",
    "        x_val_s[:, :, i] = scalers[i].transform(data_input['x_val'][:, :, i])\n",
    "        x_test_s[:, :, i] = scalers[i].transform(data_input['x_test'][:, :, i])\n",
    "\n",
    "    # lo que entendí es que estos valores son simbólicos nada más, se usa 0 inicialmente para decir que es la única columna, pero bien podriamos usar 1, tambié se usa el ultimo escalador para dar a entender que es el último valor el target, aunque bien podria ser otro valor, no le vi sentido a los números asi que pienso que es simbólico.\n",
    "    y_train_s[:,:,0] = scalers[-1].fit_transform(data_input['y_train'][:,:,0])\n",
    "    y_val_s[:,:,0] = scalers[-1].transform(data_input['y_val'][:, :, 0])\n",
    "    y_test_s[:,:,0] = scalers[-1].transform(data_input['y_test'][:, :, 0])\n",
    "\n",
    "    data_scaled = {\n",
    "        'x_train_s': x_train_s,\n",
    "        'x_val_s': x_val_s,\n",
    "        'x_test_s': x_test_s,\n",
    "        'y_train_s': y_train_s,\n",
    "        'y_val_s': y_val_s,\n",
    "        'y_test_s': y_test_s\n",
    "    }\n",
    "\n",
    "    # Saco el primer escalador para luego hacer la transformacion inversa\n",
    "    return data_scaled, scalers[0]"
   ]
  },
  {
   "cell_type": "code",
   "execution_count": 9,
   "metadata": {
    "colab": {
     "base_uri": "https://localhost:8080/"
    },
    "id": "5AuexPYGoupp",
    "outputId": "b88e47ce-a2fb-40d6-abb5-6a4e624e13e5"
   },
   "outputs": [
    {
     "name": "stdout",
     "output_type": "stream",
     "text": [
      "-23.01 35.86\n",
      "-1.0 0.9999999999999999\n"
     ]
    }
   ],
   "source": [
    "# la función de arriba pide un diccionario asi que lo creo\n",
    "data_in = {\n",
    "    'x_train': x_train,\n",
    "    'y_train': y_train,\n",
    "    'x_test': x_test,\n",
    "    'y_test': y_test,\n",
    "    'x_val': x_val,\n",
    "    'y_val': y_val\n",
    "}\n",
    "\n",
    "# entonces escalo y saco los datos\n",
    "data_s, scaler = escalar_dataset(data_in)\n",
    "x_train_s, y_train_s = data_s['x_train_s'], data_s['y_train_s']\n",
    "x_val_s, y_val_s = data_s['x_val_s'], data_s['y_val_s']\n",
    "x_test_s, y_test_s = data_s['x_test_s'], data_s['y_test_s']\n",
    "\n",
    "print(x_train.min(), x_train.max())\n",
    "print(x_train_s.min(), x_train_s.max())"
   ]
  },
  {
   "cell_type": "markdown",
   "metadata": {
    "id": "oFEmu8otoupq"
   },
   "source": [
    "## Modelo"
   ]
  },
  {
   "cell_type": "code",
   "execution_count": 10,
   "metadata": {
    "colab": {
     "base_uri": "https://localhost:8080/"
    },
    "id": "G18YtWLzoupq",
    "outputId": "a159aa6e-e8ff-43d8-982f-1ae26dd75ef3"
   },
   "outputs": [
    {
     "name": "stderr",
     "output_type": "stream",
     "text": [
      "/usr/local/lib/python3.10/dist-packages/keras/src/layers/rnn/rnn.py:204: UserWarning: Do not pass an `input_shape`/`input_dim` argument to a layer. When using Sequential models, prefer using an `Input(shape)` object as the first layer in the model instead.\n",
      "  super().__init__(**kwargs)\n"
     ]
    },
    {
     "name": "stdout",
     "output_type": "stream",
     "text": [
      "Epoch 1/80\n",
      "1315/1315 - 20s - 15ms/step - loss: 0.2176 - val_loss: 0.1055\n",
      "Epoch 2/80\n",
      "1315/1315 - 17s - 13ms/step - loss: 0.0983 - val_loss: 0.0771\n",
      "Epoch 3/80\n",
      "1315/1315 - 24s - 18ms/step - loss: 0.0801 - val_loss: 0.0703\n",
      "Epoch 4/80\n",
      "1315/1315 - 18s - 14ms/step - loss: 0.0756 - val_loss: 0.0674\n",
      "Epoch 5/80\n",
      "1315/1315 - 19s - 15ms/step - loss: 0.0728 - val_loss: 0.0652\n",
      "Epoch 6/80\n",
      "1315/1315 - 21s - 16ms/step - loss: 0.0708 - val_loss: 0.0638\n",
      "Epoch 7/80\n",
      "1315/1315 - 21s - 16ms/step - loss: 0.0692 - val_loss: 0.0626\n",
      "Epoch 8/80\n",
      "1315/1315 - 18s - 14ms/step - loss: 0.0678 - val_loss: 0.0616\n",
      "Epoch 9/80\n",
      "1315/1315 - 17s - 13ms/step - loss: 0.0668 - val_loss: 0.0607\n",
      "Epoch 10/80\n",
      "1315/1315 - 18s - 14ms/step - loss: 0.0658 - val_loss: 0.0599\n",
      "Epoch 11/80\n",
      "1315/1315 - 20s - 15ms/step - loss: 0.0649 - val_loss: 0.0590\n",
      "Epoch 12/80\n",
      "1315/1315 - 18s - 13ms/step - loss: 0.0635 - val_loss: 0.0573\n",
      "Epoch 13/80\n",
      "1315/1315 - 20s - 15ms/step - loss: 0.0572 - val_loss: 0.0508\n",
      "Epoch 14/80\n",
      "1315/1315 - 17s - 13ms/step - loss: 0.0523 - val_loss: 0.0496\n",
      "Epoch 15/80\n",
      "1315/1315 - 21s - 16ms/step - loss: 0.0513 - val_loss: 0.0491\n",
      "Epoch 16/80\n",
      "1315/1315 - 19s - 14ms/step - loss: 0.0508 - val_loss: 0.0488\n",
      "Epoch 17/80\n",
      "1315/1315 - 17s - 13ms/step - loss: 0.0505 - val_loss: 0.0485\n",
      "Epoch 18/80\n",
      "1315/1315 - 20s - 15ms/step - loss: 0.0502 - val_loss: 0.0482\n",
      "Epoch 19/80\n",
      "1315/1315 - 17s - 13ms/step - loss: 0.0499 - val_loss: 0.0479\n",
      "Epoch 20/80\n",
      "1315/1315 - 20s - 15ms/step - loss: 0.0495 - val_loss: 0.0476\n",
      "Epoch 21/80\n",
      "1315/1315 - 17s - 13ms/step - loss: 0.0493 - val_loss: 0.0474\n",
      "Epoch 22/80\n",
      "1315/1315 - 21s - 16ms/step - loss: 0.0490 - val_loss: 0.0472\n",
      "Epoch 23/80\n",
      "1315/1315 - 20s - 15ms/step - loss: 0.0487 - val_loss: 0.0469\n",
      "Epoch 24/80\n",
      "1315/1315 - 17s - 13ms/step - loss: 0.0483 - val_loss: 0.0467\n",
      "Epoch 25/80\n",
      "1315/1315 - 17s - 13ms/step - loss: 0.0479 - val_loss: 0.0467\n",
      "Epoch 26/80\n",
      "1315/1315 - 20s - 15ms/step - loss: 0.0477 - val_loss: 0.0466\n",
      "Epoch 27/80\n",
      "1315/1315 - 21s - 16ms/step - loss: 0.0475 - val_loss: 0.0465\n",
      "Epoch 28/80\n",
      "1315/1315 - 17s - 13ms/step - loss: 0.0473 - val_loss: 0.0464\n",
      "Epoch 29/80\n",
      "1315/1315 - 20s - 15ms/step - loss: 0.0472 - val_loss: 0.0463\n",
      "Epoch 30/80\n",
      "1315/1315 - 17s - 13ms/step - loss: 0.0471 - val_loss: 0.0462\n",
      "Epoch 31/80\n",
      "1315/1315 - 20s - 16ms/step - loss: 0.0470 - val_loss: 0.0461\n",
      "Epoch 32/80\n",
      "1315/1315 - 17s - 13ms/step - loss: 0.0469 - val_loss: 0.0461\n",
      "Epoch 33/80\n",
      "1315/1315 - 17s - 13ms/step - loss: 0.0468 - val_loss: 0.0460\n",
      "Epoch 34/80\n",
      "1315/1315 - 21s - 16ms/step - loss: 0.0468 - val_loss: 0.0459\n",
      "Epoch 35/80\n",
      "1315/1315 - 20s - 15ms/step - loss: 0.0467 - val_loss: 0.0459\n",
      "Epoch 36/80\n",
      "1315/1315 - 18s - 13ms/step - loss: 0.0466 - val_loss: 0.0458\n",
      "Epoch 37/80\n",
      "1315/1315 - 18s - 13ms/step - loss: 0.0466 - val_loss: 0.0458\n",
      "Epoch 38/80\n",
      "1315/1315 - 20s - 16ms/step - loss: 0.0465 - val_loss: 0.0457\n",
      "Epoch 39/80\n",
      "1315/1315 - 17s - 13ms/step - loss: 0.0465 - val_loss: 0.0456\n",
      "Epoch 40/80\n",
      "1315/1315 - 17s - 13ms/step - loss: 0.0464 - val_loss: 0.0456\n",
      "Epoch 41/80\n",
      "1315/1315 - 17s - 13ms/step - loss: 0.0464 - val_loss: 0.0455\n",
      "Epoch 42/80\n",
      "1315/1315 - 20s - 16ms/step - loss: 0.0463 - val_loss: 0.0455\n",
      "Epoch 43/80\n",
      "1315/1315 - 20s - 15ms/step - loss: 0.0463 - val_loss: 0.0455\n",
      "Epoch 44/80\n",
      "1315/1315 - 17s - 13ms/step - loss: 0.0462 - val_loss: 0.0454\n",
      "Epoch 45/80\n",
      "1315/1315 - 20s - 16ms/step - loss: 0.0462 - val_loss: 0.0454\n",
      "Epoch 46/80\n",
      "1315/1315 - 17s - 13ms/step - loss: 0.0461 - val_loss: 0.0453\n",
      "Epoch 47/80\n",
      "1315/1315 - 20s - 15ms/step - loss: 0.0461 - val_loss: 0.0453\n",
      "Epoch 48/80\n",
      "1315/1315 - 21s - 16ms/step - loss: 0.0461 - val_loss: 0.0452\n",
      "Epoch 49/80\n",
      "1315/1315 - 20s - 15ms/step - loss: 0.0460 - val_loss: 0.0452\n",
      "Epoch 50/80\n",
      "1315/1315 - 18s - 13ms/step - loss: 0.0460 - val_loss: 0.0451\n",
      "Epoch 51/80\n",
      "1315/1315 - 17s - 13ms/step - loss: 0.0459 - val_loss: 0.0451\n",
      "Epoch 52/80\n",
      "1315/1315 - 18s - 13ms/step - loss: 0.0459 - val_loss: 0.0450\n",
      "Epoch 53/80\n",
      "1315/1315 - 20s - 15ms/step - loss: 0.0459 - val_loss: 0.0450\n",
      "Epoch 54/80\n",
      "1315/1315 - 21s - 16ms/step - loss: 0.0458 - val_loss: 0.0450\n",
      "Epoch 55/80\n",
      "1315/1315 - 20s - 15ms/step - loss: 0.0458 - val_loss: 0.0449\n",
      "Epoch 56/80\n",
      "1315/1315 - 21s - 16ms/step - loss: 0.0458 - val_loss: 0.0449\n",
      "Epoch 57/80\n",
      "1315/1315 - 20s - 15ms/step - loss: 0.0457 - val_loss: 0.0448\n",
      "Epoch 58/80\n",
      "1315/1315 - 17s - 13ms/step - loss: 0.0457 - val_loss: 0.0448\n",
      "Epoch 59/80\n",
      "1315/1315 - 20s - 15ms/step - loss: 0.0457 - val_loss: 0.0448\n",
      "Epoch 60/80\n",
      "1315/1315 - 17s - 13ms/step - loss: 0.0456 - val_loss: 0.0447\n",
      "Epoch 61/80\n",
      "1315/1315 - 18s - 14ms/step - loss: 0.0456 - val_loss: 0.0447\n",
      "Epoch 62/80\n",
      "1315/1315 - 20s - 15ms/step - loss: 0.0456 - val_loss: 0.0447\n",
      "Epoch 63/80\n",
      "1315/1315 - 17s - 13ms/step - loss: 0.0455 - val_loss: 0.0446\n",
      "Epoch 64/80\n",
      "1315/1315 - 17s - 13ms/step - loss: 0.0455 - val_loss: 0.0446\n",
      "Epoch 65/80\n",
      "1315/1315 - 17s - 13ms/step - loss: 0.0455 - val_loss: 0.0446\n",
      "Epoch 66/80\n",
      "1315/1315 - 19s - 14ms/step - loss: 0.0454 - val_loss: 0.0445\n",
      "Epoch 67/80\n",
      "1315/1315 - 19s - 14ms/step - loss: 0.0454 - val_loss: 0.0445\n",
      "Epoch 68/80\n",
      "1315/1315 - 17s - 13ms/step - loss: 0.0454 - val_loss: 0.0445\n",
      "Epoch 69/80\n",
      "1315/1315 - 20s - 15ms/step - loss: 0.0454 - val_loss: 0.0444\n",
      "Epoch 70/80\n",
      "1315/1315 - 17s - 13ms/step - loss: 0.0453 - val_loss: 0.0444\n",
      "Epoch 71/80\n",
      "1315/1315 - 20s - 15ms/step - loss: 0.0453 - val_loss: 0.0444\n",
      "Epoch 72/80\n",
      "1315/1315 - 21s - 16ms/step - loss: 0.0453 - val_loss: 0.0443\n",
      "Epoch 73/80\n",
      "1315/1315 - 20s - 15ms/step - loss: 0.0453 - val_loss: 0.0443\n",
      "Epoch 74/80\n",
      "1315/1315 - 17s - 13ms/step - loss: 0.0452 - val_loss: 0.0443\n",
      "Epoch 75/80\n",
      "1315/1315 - 20s - 16ms/step - loss: 0.0452 - val_loss: 0.0443\n",
      "Epoch 76/80\n",
      "1315/1315 - 20s - 15ms/step - loss: 0.0452 - val_loss: 0.0442\n",
      "Epoch 77/80\n",
      "1315/1315 - 21s - 16ms/step - loss: 0.0452 - val_loss: 0.0442\n",
      "Epoch 78/80\n",
      "1315/1315 - 21s - 16ms/step - loss: 0.0451 - val_loss: 0.0442\n",
      "Epoch 79/80\n",
      "1315/1315 - 17s - 13ms/step - loss: 0.0451 - val_loss: 0.0442\n",
      "Epoch 80/80\n",
      "1315/1315 - 20s - 15ms/step - loss: 0.0451 - val_loss: 0.0441\n"
     ]
    }
   ],
   "source": [
    "# la semilla y una cosa de configuración\n",
    "tf.random.set_seed(123)\n",
    "tf.config.experimental.enable_op_determinism()\n",
    "\n",
    "INPUT_SHAPE = (x_train.shape[1], x_train.shape[2])\n",
    "\n",
    "model = Sequential()\n",
    "model.add(LSTM(128, input_shape=INPUT_SHAPE))\n",
    "# 1 o el output_lenght, que como es univariado es 1\n",
    "model.add(Dense(6, activation='linear'))\n",
    "\n",
    "def rmse(y_true, y_pred):\n",
    "    return tf.sqrt(tf.reduce_mean(tf.square(y_true - y_pred)))\n",
    "\n",
    "model.compile(optimizer=RMSprop(learning_rate=1e-5), loss=rmse)\n",
    "\n",
    "hist = model.fit(\n",
    "    x_train_s, y_train_s,\n",
    "    epochs=80,\n",
    "    batch_size=256,\n",
    "    validation_data=(x_val_s, y_val_s),\n",
    "    verbose=2\n",
    ")"
   ]
  },
  {
   "cell_type": "code",
   "execution_count": 11,
   "metadata": {
    "colab": {
     "base_uri": "https://localhost:8080/",
     "height": 452
    },
    "id": "ElBwbv2RpPYW",
    "outputId": "d5eec141-50af-4bb1-fe81-f604da84517c"
   },
   "outputs": [
    {
     "data": {
      "image/png": "[encoded data removed]",
      "text/plain": [
       "<Figure size 640x480 with 1 Axes>"
      ]
     },
     "metadata": {},
     "output_type": "display_data"
    }
   ],
   "source": [
    "# Graficamos\n",
    "plt.plot(hist.history['loss'],label='RMSE train')\n",
    "plt.plot(hist.history['val_loss'], label='RMSE test')\n",
    "plt.xlabel('Iteración')\n",
    "plt.ylabel('RMSE')\n",
    "plt.legend();"
   ]
  },
  {
   "cell_type": "markdown",
   "metadata": {
    "id": "9dF4fSCApQs8"
   },
   "source": [
    "## Desempeño"
   ]
  },
  {
   "cell_type": "code",
   "execution_count": 12,
   "metadata": {
    "colab": {
     "base_uri": "https://localhost:8080/"
    },
    "id": "AwtCRj2mpSjP",
    "outputId": "5697b71e-2a30-4e7d-97d7-f83cd1880f42"
   },
   "outputs": [
    {
     "name": "stdout",
     "output_type": "stream",
     "text": [
      "RMSE Train:  0.03899731487035751\n",
      "RMSE Test:  0.0380973145365715\n",
      "RMSE Val:  0.04026324301958084\n"
     ]
    }
   ],
   "source": [
    "rmse_train = model.evaluate(x_train_s,y_train_s, verbose=0)\n",
    "rmse_test = model.evaluate(x_test_s, y_test_s, verbose=0)\n",
    "rmse_val = model.evaluate(x_val_s, y_val_s, verbose=0)\n",
    "\n",
    "print(\"RMSE Train: \", rmse_train)\n",
    "print(\"RMSE Test: \", rmse_test)\n",
    "print(\"RMSE Val: \", rmse_val)"
   ]
  },
  {
   "cell_type": "markdown",
   "metadata": {
    "id": "CJS90NXJqJBX"
   },
   "source": []
  },
  {
   "cell_type": "code",
   "execution_count": 13,
   "metadata": {
    "colab": {
     "base_uri": "https://localhost:8080/",
     "height": 449
    },
    "id": "4GEtlXQEtdkv",
    "outputId": "79cbf697-9eec-4403-d154-d72697301d62"
   },
   "outputs": [
    {
     "data": {
      "image/png": "[encoded data removed]",
      "text/plain": [
       "<Figure size 640x480 with 1 Axes>"
      ]
     },
     "metadata": {},
     "output_type": "display_data"
    }
   ],
   "source": [
    "y_test_pred_s = model.predict(x_test_s, verbose=0)\n",
    "y_test_pred = scaler.inverse_transform(y_test_pred_s)\n",
    "\n",
    "# Calcular el RMSE para cada instancia de tiempo predicho\n",
    "diff_cuad = np.square(y_test.squeeze()-y_test_pred)\n",
    "proms = np.mean(diff_cuad, axis=0)\n",
    "rmse = np.sqrt(proms)\n",
    "\n",
    "# Graficar rmse para cada timestep\n",
    "t = np.linspace(1, 24, 24)\n",
    "\n",
    "fig,ax=plt.subplots()\n",
    "ax.scatter(t,rmse)\n",
    "ax.set_xlabel('Horas')\n",
    "ax.set_ylabel('RMSE')\n",
    "plt.xticks(ticks=t, labels=t)\n",
    "plt.grid()"
   ]
  },
  {
   "cell_type": "code",
   "execution_count": 14,
   "metadata": {
    "id": "WkNkJgcWt1Tr"
   },
   "outputs": [],
   "source": [
    "def predecir(x,model,scaler):\n",
    "    y_pred_s = model.predict(x, verbose=0)\n",
    "    y_pred = scaler.inverse_transform(y_pred_s)\n",
    "\n",
    "    return y_pred.flatten()"
   ]
  },
  {
   "cell_type": "code",
   "execution_count": 15,
   "metadata": {
    "id": "8L-Ozer-t2Ip"
   },
   "outputs": [],
   "source": [
    "y_test_pred = predecir(x_test_s, model, scaler)"
   ]
  },
  {
   "cell_type": "code",
   "execution_count": 16,
   "metadata": {
    "colab": {
     "base_uri": "https://localhost:8080/",
     "height": 465
    },
    "id": "FOElPOLLt2v6",
    "outputId": "b79547cd-71b1-49ba-c3bf-38bd4a24b080"
   },
   "outputs": [
    {
     "data": {
      "text/plain": [
       "[<matplotlib.lines.Line2D at 0x7f322074c760>]"
      ]
     },
     "execution_count": 16,
     "metadata": {},
     "output_type": "execute_result"
    },
    {
     "data": {
      "image/png": "[encoded data removed]",
      "text/plain": [
       "<Figure size 640x480 with 1 Axes>"
      ]
     },
     "metadata": {},
     "output_type": "display_data"
    }
   ],
   "source": [
    "# Nunm de pred\n",
    "N = len(y_test_pred)\n",
    "# Esto es para graficar solo un arrelgo de 1 hasta N, de N en N, o sea, de uno en uno.\n",
    "ndato = np.linspace(1,N,N)\n",
    "\n",
    "errores = y_test.flatten() - y_test_pred\n",
    "plt.plot(errores)"
   ]
  }
 ],
 "metadata": {
  "accelerator": "GPU",
  "colab": {
   "gpuType": "T4",
   "provenance": []
  },
  "kernelspec": {
   "display_name": "env",
   "language": "python",
   "name": "python3"
  },
  "language_info": {
   "codemirror_mode": {
    "name": "ipython",
    "version": 3
   },
   "file_extension": ".py",
   "mimetype": "text/x-python",
   "name": "python",
   "nbconvert_exporter": "python",
   "pygments_lexer": "ipython3",
   "version": "3.11.9"
  }
 },
 "nbformat": 4,
 "nbformat_minor": 0
}
